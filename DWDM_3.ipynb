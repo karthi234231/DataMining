{
  "nbformat": 4,
  "nbformat_minor": 0,
  "metadata": {
    "colab": {
      "provenance": [],
      "include_colab_link": true
    },
    "kernelspec": {
      "name": "python3",
      "display_name": "Python 3"
    },
    "language_info": {
      "name": "python"
    }
  },
  "cells": [
    {
      "cell_type": "markdown",
      "metadata": {
        "id": "view-in-github",
        "colab_type": "text"
      },
      "source": [
        "<a href=\"https://colab.research.google.com/github/karthi234231/DataMining/blob/main/DWDM_3.ipynb\" target=\"_parent\"><img src=\"https://colab.research.google.com/assets/colab-badge.svg\" alt=\"Open In Colab\"/></a>"
      ]
    },
    {
      "cell_type": "code",
      "execution_count": 14,
      "metadata": {
        "id": "2KmLZnFM_TZn"
      },
      "outputs": [],
      "source": [
        "from sklearn.datasets import load_iris\n",
        "import pandas as pd"
      ]
    },
    {
      "cell_type": "code",
      "source": [
        "iris= load_iris()\n",
        "data = pd.DataFrame(iris.data,columns=iris.feature_names)\n",
        "data['target'] = iris.target"
      ],
      "metadata": {
        "id": "gfHFo1cD_grs"
      },
      "execution_count": 15,
      "outputs": []
    },
    {
      "cell_type": "markdown",
      "source": [
        "# **Cosine**"
      ],
      "metadata": {
        "id": "SmBGnYSA_znI"
      }
    },
    {
      "cell_type": "code",
      "source": [
        "from sklearn.metrics.pairwise import cosine_similarity\n",
        "cos = cosine_similarity(data.iloc[[0]],data.iloc[[1]])"
      ],
      "metadata": {
        "id": "TUsiZ788_zQt"
      },
      "execution_count": 16,
      "outputs": []
    },
    {
      "cell_type": "markdown",
      "source": [
        "# **Euclidean distance**"
      ],
      "metadata": {
        "id": "9Df7Ntd2CvV7"
      }
    },
    {
      "cell_type": "code",
      "source": [
        "from sklearn.metrics.pairwise import euclidean_distances\n",
        "euc_dis = euclidean_distances(data.iloc[[0]],data.iloc[[1]])\n",
        "euc_dis"
      ],
      "metadata": {
        "colab": {
          "base_uri": "https://localhost:8080/"
        },
        "id": "UNgxMSxaAIif",
        "outputId": "48deab75-5931-47a6-b9bb-f9bef98d2f6c"
      },
      "execution_count": 17,
      "outputs": [
        {
          "output_type": "execute_result",
          "data": {
            "text/plain": [
              "array([[0.53851648]])"
            ]
          },
          "metadata": {},
          "execution_count": 17
        }
      ]
    },
    {
      "cell_type": "markdown",
      "source": [
        "# **Corr**"
      ],
      "metadata": {
        "id": "Sbec62wdF3rr"
      }
    },
    {
      "cell_type": "code",
      "source": [
        "from scipy.stats import pearsonr\n",
        "corr,_ = pearsonr(data['petal length (cm)'],data['sepal width (cm)'])\n",
        "corr"
      ],
      "metadata": {
        "colab": {
          "base_uri": "https://localhost:8080/"
        },
        "id": "XQaXvbvHDQNv",
        "outputId": "97e94508-7b38-4938-f1cf-ba0c2490f236"
      },
      "execution_count": 18,
      "outputs": [
        {
          "output_type": "execute_result",
          "data": {
            "text/plain": [
              "-0.4284401043305397"
            ]
          },
          "metadata": {},
          "execution_count": 18
        }
      ]
    },
    {
      "cell_type": "markdown",
      "source": [
        "# **Jaccard Similarity**"
      ],
      "metadata": {
        "id": "30_S0AiqF9UH"
      }
    },
    {
      "cell_type": "code",
      "source": [
        "from sklearn.metrics import jaccard_score\n",
        "import numpy as np\n",
        "import pandas as pd\n",
        "\n",
        "# Assuming 'data' is your DataFrame and 'target' is the column containing the target values\n",
        "target_set1 = set([data.iloc[0]['target']])\n",
        "target_set2 = set([data.iloc[1]['target']])\n",
        "\n",
        "# Convert sets to lists and calculate Jaccard similarity\n",
        "jac_sim = jaccard_score(list(target_set1),list(target_set2),average='micro')\n",
        "jac_sim"
      ],
      "metadata": {
        "id": "a1ewl6XxDT7V",
        "colab": {
          "base_uri": "https://localhost:8080/"
        },
        "outputId": "6ee4afe8-7db9-4038-9eda-b6454eeaa66b"
      },
      "execution_count": 19,
      "outputs": [
        {
          "output_type": "execute_result",
          "data": {
            "text/plain": [
              "1.0"
            ]
          },
          "metadata": {},
          "execution_count": 19
        }
      ]
    },
    {
      "cell_type": "markdown",
      "source": [
        "# **Manhattan distance**"
      ],
      "metadata": {
        "id": "2zQCPXl3HIt_"
      }
    },
    {
      "cell_type": "code",
      "source": [
        "from sklearn.metrics.pairwise import manhattan_distances\n",
        "\n",
        "# Assuming 'data' is your DataFrame\n",
        "row1=data.iloc[[0],:-1]\n",
        "row2=data.iloc[[1],:-1]\n",
        "\n",
        "manhattan_dist = manhattan_distances(row1,row2)\n",
        "# Ensure 'print' is not assigned to a variable\n",
        "\n",
        "manhattan_dist\n"
      ],
      "metadata": {
        "colab": {
          "base_uri": "https://localhost:8080/"
        },
        "id": "m0M8HPxgHN8H",
        "outputId": "c60e99fa-eca8-4d54-f558-ba9315928dbf"
      },
      "execution_count": 22,
      "outputs": [
        {
          "output_type": "execute_result",
          "data": {
            "text/plain": [
              "array([[0.7]])"
            ]
          },
          "metadata": {},
          "execution_count": 22
        }
      ]
    }
  ]
}